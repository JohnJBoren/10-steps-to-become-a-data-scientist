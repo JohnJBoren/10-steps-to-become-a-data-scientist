{
  "nbformat": 4,
  "nbformat_minor": 0,
  "metadata": {
    "colab": {
      "name": "AutomataInClass.ipynb",
      "version": "0.3.2",
      "provenance": [],
      "collapsed_sections": [],
      "include_colab_link": true
    },
    "kernelspec": {
      "name": "python3",
      "display_name": "Python 3"
    },
    "accelerator": "GPU"
  },
  "cells": [
    {
      "cell_type": "markdown",
      "metadata": {
        "id": "view-in-github",
        "colab_type": "text"
      },
      "source": [
        "<a href=\"https://colab.research.google.com/github/JohnJBoren/10-steps-to-become-a-data-scientist/blob/master/AutomataInClass.ipynb\" target=\"_parent\"><img src=\"https://colab.research.google.com/assets/colab-badge.svg\" alt=\"Open In Colab\"/></a>"
      ]
    },
    {
      "metadata": {
        "id": "rGSzrLkmS-FN",
        "colab_type": "code",
        "outputId": "1fe315bb-fa1d-4d77-fa11-d08c18c38f18",
        "colab": {
          "base_uri": "https://localhost:8080/",
          "height": 34
        }
      },
      "cell_type": "code",
      "source": [
        "import tensorflow as tf\n",
        "device_name = tf.test.gpu_device_name()\n",
        "if device_name != '/device:GPU:0':\n",
        "  raise SystemError('GPU device not found')\n",
        "print('Found GPU at: {}'.format(device_name))"
      ],
      "execution_count": 0,
      "outputs": [
        {
          "output_type": "stream",
          "text": [
            "Found GPU at: /device:GPU:0\n"
          ],
          "name": "stdout"
        }
      ]
    },
    {
      "metadata": {
        "id": "InpRKkx4Wbom",
        "colab_type": "text"
      },
      "cell_type": "markdown",
      "source": [
        "# CSCE A351: Automata Spring 2019\n",
        "In-class Work Sheet 1 from 3/27/2019\n",
        "<br>John J Boren"
      ]
    },
    {
      "metadata": {
        "id": "HcTdp0HUS-z2",
        "colab_type": "text"
      },
      "cell_type": "markdown",
      "source": [
        "# Matrix Addition in Python"
      ]
    },
    {
      "metadata": {
        "id": "Ug8nebBNYI4j",
        "colab_type": "text"
      },
      "cell_type": "markdown",
      "source": [
        "[Python Program to Add Two Matrices](https://www.programiz.com/python-programming/examples/add-matrix)"
      ]
    },
    {
      "metadata": {
        "id": "qD8-uZohYULw",
        "colab_type": "code",
        "outputId": "b14a79e3-b530-4b94-85e7-9b8d163a0398",
        "colab": {
          "base_uri": "https://localhost:8080/",
          "height": 52
        }
      },
      "cell_type": "code",
      "source": [
        "# Program to add two matrices using nested loop\n",
        "\n",
        "# 2x2 matrix\n",
        "X = [[1.3, 2.5],\n",
        "    [3.3, 4.4]]\n",
        "\n",
        "# 2x2 matrix\n",
        "Y = [[17.3, 42.9],\n",
        "    [23.333, 19.0]]\n",
        "\n",
        "# result is 2x2\n",
        "result = [[0,0],\n",
        "         [0,0]]\n",
        "\n",
        "# iterate through rows\n",
        "for i in range(len(X)):\n",
        "   # iterate through columns\n",
        "   for j in range(len(X[0])):\n",
        "       result[i][j] = X[i][j] + Y[i][j]\n",
        "\n",
        "for r in result:\n",
        "   print(r)"
      ],
      "execution_count": 0,
      "outputs": [
        {
          "output_type": "stream",
          "text": [
            "[18.6, 45.4]\n",
            "[26.633, 23.4]\n"
          ],
          "name": "stdout"
        }
      ]
    },
    {
      "metadata": {
        "id": "VPS3Mw34k-t0",
        "colab_type": "text"
      },
      "cell_type": "markdown",
      "source": [
        "It's  ** O(M*N)** for a 2-dimensional matrix with M rows and N columns.\n",
        "\n",
        "Or you can say it's **O(L)** where **L** is the total number of elements."
      ]
    },
    {
      "metadata": {
        "id": "3nL6wETQZ_Sc",
        "colab_type": "text"
      },
      "cell_type": "markdown",
      "source": [
        "# [Matrix multiplication algorithm - Wikipedia](https://en.wikipedia.org/wiki/Matrix_multiplication_algorithm)\n"
      ]
    },
    {
      "metadata": {
        "id": "YfGDNjSnaMCf",
        "colab_type": "text"
      },
      "cell_type": "markdown",
      "source": [
        "Iterative Version"
      ]
    },
    {
      "metadata": {
        "id": "AsC3CpyDdr_w",
        "colab_type": "code",
        "outputId": "02494cd9-83d9-419e-d906-13142a41d212",
        "colab": {
          "base_uri": "https://localhost:8080/",
          "height": 52
        }
      },
      "cell_type": "code",
      "source": [
        "# Program to multiply two matrices using nested loops\n",
        "\n",
        "# 2x2 matrix\n",
        "A = [[1, 2],\n",
        "    [3, 4]]\n",
        "\n",
        "# 2x2 matrix\n",
        "B = [[17, 42],\n",
        "    [23, 19]]\n",
        "\n",
        "# result is 2x2\n",
        "result = [[0,0],\n",
        "         [0,0]]\n",
        "\n",
        "# iterate through rows of X\n",
        "for i in range(len(A)):\n",
        "   # iterate through columns of Y\n",
        "   for j in range(len(B[0])):\n",
        "       # iterate through rows of Y\n",
        "       for k in range(len(B)):\n",
        "           result[i][j] += A[i][k] * B[k][j]\n",
        "\n",
        "for r in result:\n",
        "   print(r)"
      ],
      "execution_count": 0,
      "outputs": [
        {
          "output_type": "stream",
          "text": [
            "[63, 80]\n",
            "[143, 202]\n"
          ],
          "name": "stdout"
        }
      ]
    },
    {
      "metadata": {
        "id": "SLIsAJoCqvEs",
        "colab_type": "text"
      },
      "cell_type": "markdown",
      "source": [
        "The same iterative approach, but with list comprehension. [programiz.com](https://www.programiz.com/python-programming/examples/multiply-matrix)"
      ]
    },
    {
      "metadata": {
        "id": "zxNzwuv_qswX",
        "colab_type": "code",
        "outputId": "5ff6c0a9-50df-4fbd-dea1-540a68622fda",
        "colab": {
          "base_uri": "https://localhost:8080/",
          "height": 52
        }
      },
      "cell_type": "code",
      "source": [
        "# Program to multiply two matrices using list comprehension\n",
        "\n",
        "# 2x2 matrix\n",
        "X = [[1, 2],\n",
        "    [3, 4]]\n",
        "\n",
        "# 2x2 matrix\n",
        "Y = [[17, 42],\n",
        "    [23, 19]]\n",
        "\n",
        "\n",
        "# result is 3x4\n",
        "result = [[sum(a*b for a,b in zip(X_row,Y_col)) for Y_col in zip(*Y)] for X_row in X]\n",
        "\n",
        "for r in result:\n",
        "   print(r)"
      ],
      "execution_count": 0,
      "outputs": [
        {
          "output_type": "stream",
          "text": [
            "[63, 80]\n",
            "[143, 202]\n"
          ],
          "name": "stdout"
        }
      ]
    },
    {
      "metadata": {
        "id": "WduKFmVedyOW",
        "colab_type": "text"
      },
      "cell_type": "markdown",
      "source": [
        "This algorithm takes time **Θ(nmp)** (in asymptotic notation).<br> A common simplification for the purpose of algorithms analysis is to assume that the inputs are all square matrices of size **n × n**, in which case the running time is **Θ(n3)**, i.e., cubic."
      ]
    },
    {
      "metadata": {
        "id": "KycB8pcEeJuk",
        "colab_type": "text"
      },
      "cell_type": "markdown",
      "source": [
        "# Divide and conquer algorithm"
      ]
    },
    {
      "metadata": {
        "id": "ZktllHzbeUKM",
        "colab_type": "text"
      },
      "cell_type": "markdown",
      "source": [
        "The complexity of this algorithm as a function of n is given by the recurrence:<br><br>**T(1) = Θ(1)**<br>**T(n) = 8T(n/2) + Θ($n^2$)**,<br> **T(n) = Θ($n^3$)**\n",
        "<br>accounting for the eight recursive calls on matrices of size n/2 andΘ($n^2$) to sum the four pairs of resulting matrices element-wise. Application of the master theorem for divide-and-conquer recurrences shows this recursion to have the solution Θ($n^3$), the same as the iterative algorithm. \n",
        "[www.geeksforgeeks.org](https://www.geeksforgeeks.org/matrix-multiplication-recursive/)"
      ]
    },
    {
      "metadata": {
        "id": "TWkkrIVXpnf2",
        "colab_type": "code",
        "colab": {}
      },
      "cell_type": "code",
      "source": [
        "# Recursive code for Matrix Multiplication  \n",
        "MAX = 100\n",
        "i = 0\n",
        "j = 0\n",
        "k = 0\n",
        "  \n",
        "def multiplyMatrixRec(row1, col1, A,  \n",
        "                      row2, col2, B, C):  \n",
        "                            \n",
        "    # Note that below variables are static  \n",
        "    # i and j are used to know current cell of  \n",
        "    # result matrix C[][]. k is used to know  \n",
        "    # current column number of A[][] and row  \n",
        "    # number of B[][] to be multiplied  \n",
        "    global i \n",
        "    global j \n",
        "    global k \n",
        "      \n",
        "    # If all rows traversed.  \n",
        "    if (i >= row1):  \n",
        "        return\n",
        "          \n",
        "    # If i < row1  \n",
        "    if (j < col2): \n",
        "        if (k < col1): \n",
        "            C[i][j] += A[i][k] * B[k][j] \n",
        "            k += 1\n",
        "            multiplyMatrixRec(row1, col1, A,  \n",
        "                              row2, col2,B, C) \n",
        "  \n",
        "        k = 0\n",
        "        j += 1\n",
        "        multiplyMatrixRec(row1, col1, A, \n",
        "                          row2, col2, B, C) \n",
        "  \n",
        "    j = 0\n",
        "    i += 1\n",
        "    multiplyMatrixRec(row1, col1, A,  \n",
        "                      row2, col2, B, C) \n",
        "  \n",
        "# Function to multiply two matrices  \n",
        "# A[][] and B[][]  \n",
        "def multiplyMatrix(row1, col1, A, row2, col2, B):  \n",
        "    if (row2 != col1):  \n",
        "        print(\"Not Possible\")  \n",
        "        return\n",
        "  \n",
        "    C = [[0 for i in range(MAX)] \n",
        "            for i in range(MAX)] \n",
        "    multiplyMatrixRec(row1, col1, A,  \n",
        "                      row2, col2, B, C)  \n",
        "      \n",
        "    # Print the result  \n",
        "    for i in range(row1):  \n",
        "        for j in range(col2): \n",
        "            print( C[i][j], end = \" \")  \n",
        "        print() "
      ],
      "execution_count": 0,
      "outputs": []
    },
    {
      "metadata": {
        "id": "hQRDkWqHrm34",
        "colab_type": "code",
        "outputId": "e77af7dc-0ab9-4bf3-cd00-a112aebe56fe",
        "colab": {
          "base_uri": "https://localhost:8080/",
          "height": 52
        }
      },
      "cell_type": "code",
      "source": [
        "# Driver Code \n",
        "\n",
        "# 2x2 matrix\n",
        "X = [[1, 2],\n",
        "    [3, 4]]\n",
        "\n",
        "# 2x2 matrix\n",
        "Y = [[17, 42],\n",
        "    [23, 19]]\n",
        "  \n",
        "row1 = 2\n",
        "col1 = 2\n",
        "row2 = 2\n",
        "col2 = 2\n",
        "multiplyMatrix(row1, col1, X, row2, col2, Y) \n",
        "  \n",
        "# This code is contributed by sahilshelangia"
      ],
      "execution_count": 0,
      "outputs": [
        {
          "output_type": "stream",
          "text": [
            "63 80 \n",
            "143 202 \n"
          ],
          "name": "stdout"
        }
      ]
    },
    {
      "metadata": {
        "id": "pKAKzZNqejfN",
        "colab_type": "text"
      },
      "cell_type": "markdown",
      "source": [
        "# [Strassen's Method](https://github.com/Mbobby/Strassens/blob/master/strassens.py)"
      ]
    },
    {
      "metadata": {
        "id": "luP4cmO7l_gU",
        "colab_type": "code",
        "outputId": "a9b3eac7-fe2d-4711-829c-c3251cc29f98",
        "colab": {
          "base_uri": "https://localhost:8080/",
          "height": 298
        }
      },
      "cell_type": "code",
      "source": [
        "def baseMultiply(mat1, mat2):\n",
        "\tresult = [[0,0],[0,0]]\n",
        "\tresult[0][0] = (mat1[0][0] * mat2[0][0]) + (mat1[0][1] * mat2[1][0])\n",
        "\tresult[0][1] = (mat1[0][0] * mat2[0][1]) + (mat1[0][1] * mat2[1][1])\n",
        "\tresult[1][0] = (mat1[1][0] * mat2[0][0]) + (mat1[1][1] * mat2[1][0])\n",
        "\tresult[1][1] = (mat1[1][0] * mat2[0][1]) + (mat1[1][1] * mat2[1][1])\n",
        "\treturn result\n",
        "\n",
        "def baseAdd(mat1, mat2):\n",
        "\tresult = []\n",
        "\tfor i in range(0, len(mat1)):\n",
        "\t\tl = []\n",
        "\t\tfor j in range(0, len(mat1[0])):\n",
        "\t\t\tl.append((mat1[i][j] + mat2[i][j]))\n",
        "\t\tresult.append(l)\n",
        "\treturn result\n",
        "\n",
        "def baseSubtract(mat1, mat2):\n",
        "\tresult = []\n",
        "\tfor i in range(0, len(mat1)):\n",
        "\t\tl = []\n",
        "\t\tfor j in range(0, len(mat1[0])):\n",
        "\t\t\tl.append((mat1[i][j] - mat2[i][j]))\n",
        "\t\tresult.append(l)\n",
        "\treturn result\n",
        "\n",
        "\n",
        "def check(mat):\n",
        "\tfor i in range(1, 100):\n",
        "\t\tp = 2**i\n",
        "\t\tif(p == len(mat)):\n",
        "\t\t\treturn True, 0\n",
        "\t\telif(p > len(mat)):\n",
        "\t\t\treturn False, p\n",
        "\treturn False, -1\n",
        "\n",
        "\n",
        "def pad(mat, num):\n",
        "\tnewMatlen =  num\n",
        "\tnewMat = []\n",
        "\tfor i in range(0, num):\n",
        "\t\tnewMat.append([0 for j in range(0, num)])\n",
        "\n",
        "\tfor i in range(0, len(mat)):\n",
        "\t\tfor j in range(0, len(mat[i])):\n",
        "\t\t\tnewMat[i][j] = mat[i][j]\n",
        "\treturn newMat\n",
        "\n",
        "\n",
        "def divide(mat):\n",
        "\tx = len(mat)\n",
        "\ty = x/2\n",
        "\ta = []\n",
        "\tb = []\n",
        "\tc = []\n",
        "\td = []\n",
        "\n",
        "\tfor i in range(0, y):\n",
        "\t\ta.append(mat[i][0:y])\n",
        "\t\tb.append(mat[i][y:x])\n",
        "\tfor i in range(y, x):\n",
        "\t\tc.append(mat[i][0:y])\n",
        "\t\td.append(mat[i][y:x])\n",
        "\treturn a, b, c, d\n",
        "\n",
        "def join(a, b, c, d):\n",
        "\tresult = []\n",
        "\tl = len(a) + len(c)\n",
        "\tk = 0\n",
        "\tfor i in range(0, l/2):\n",
        "\t\tresult.append(a[k] + b[k])\n",
        "\t\tk+= 1\n",
        "\tk = 0\n",
        "\tfor i in range(l/2, l):\n",
        "\t\tresult.append(c[k] + d[k])\n",
        "\t\tk+= 1\n",
        "\treturn result\n",
        "\n",
        "def multiply(mat1, mat2):\n",
        "\tif(len(mat1) == 2 and len(mat2) == 2):\n",
        "\t\treturn baseMultiply(mat1, mat2)\n",
        "\ta11, a12, a21, a22 = divide(mat1)\n",
        "\tb11, b12, b21, b22 = divide(mat2)\n",
        "\n",
        "\tm1 = multiply(baseAdd(a11, a22), baseAdd(b11, b22))\n",
        "\tm2 = multiply(baseAdd(a21, a22), b11)\n",
        "\tm3 = multiply(a11, baseSubtract(b12, b22))\n",
        "\tm4 = multiply(a22, baseSubtract(b21, b11))\n",
        "\tm5 = multiply(baseAdd(a11, a12), b22)\n",
        "\tm6 = multiply(baseSubtract(a21, a11), baseAdd(b11, b12))\n",
        "\tm7 = multiply(baseSubtract(a12, a22), baseAdd(b21, b22))\n",
        "\n",
        "\ta = baseAdd(baseSubtract(baseAdd(m1, m4), m5), m7)\n",
        "\tb = baseAdd(m3, m5)\n",
        "\tc = baseAdd(m2, m4)\n",
        "\td = baseAdd(baseSubtract(m1, m2), baseAdd(m3, m6))\n",
        "\n",
        "\treturn join(a,b,c,d)\n",
        "\n",
        "\n",
        "def strassens(mat1, mat2):\n",
        "\tfin = len(mat1)\n",
        "\tl1 = 0\n",
        "\tl2 = 0\n",
        "\tb, y = check(mat1)\n",
        "\tif(b == False and y != -1):\n",
        "\t\tmat1 = pad(mat1, y)\n",
        "\t\tl1 = len(mat1)\n",
        "\telif(b == False and y == -1):\n",
        "\t\tprint (\"The matrix you put in is too large:\\nPlease try again with a smaller matrix\")\n",
        "\t\treturn\n",
        "\n",
        "\tb, y = check(mat2)\n",
        "\tif(b == False and y != -1):\n",
        "\t\tmat2 = pad(mat2, y)\n",
        "\t\tl2 = len(mat2)\n",
        "\telif(b == False and y == -1):\n",
        "\t\tprint (\"The matrix you put in is too large:\\nPlease try again with a smaller matrix\")\n",
        "\t\treturn\n",
        "\n",
        "\tsemi = multiply(mat1, mat2)\n",
        "\n",
        "\tfinal = []\n",
        "\tfor i in range(0, fin):\n",
        "\t\tl = []\n",
        "\t\tfor j in range(0, fin):\n",
        "\t\t\tl.append(semi[i][j])\n",
        "\t\tfinal.append(l)\n",
        "\treturn final\n",
        "\n",
        "def printMat(mat):\n",
        "\tfor line in mat:\n",
        "\t\tprint (line)\n",
        "\n",
        "#Testing the program.\n",
        "if __name__ == '__main__':\n",
        "\tprint (\"####################################Test Cases#####################################\")\n",
        "\ta = [[1, 2],\n",
        "      [3, 4]]\n",
        "\tb = [[17, 42],\n",
        "      [23, 19]]\n",
        "\n",
        "\tprint (\"\\nThe Matrix for A: \\n\")\n",
        "\tprintMat(a)\n",
        "\tprint (\"\\nThe Matrix for B: \\n\")\n",
        "\tprintMat(b)\n",
        "\tprint (\"\\nThe multiplication of a and b: \\n\")\n",
        "\ty = strassens(a, b)\n",
        "\tprintMat(y)"
      ],
      "execution_count": 0,
      "outputs": [
        {
          "output_type": "stream",
          "text": [
            "####################################Test Cases#####################################\n",
            "\n",
            "The Matrix for A: \n",
            "\n",
            "[1, 2]\n",
            "[3, 4]\n",
            "\n",
            "The Matrix for B: \n",
            "\n",
            "[17, 42]\n",
            "[23, 19]\n",
            "\n",
            "The multiplication of a and b: \n",
            "\n",
            "[63, 80]\n",
            "[143, 202]\n"
          ],
          "name": "stdout"
        }
      ]
    },
    {
      "metadata": {
        "id": "BFEsmVr-4kd0",
        "colab_type": "text"
      },
      "cell_type": "markdown",
      "source": [
        "# **[Strassen's Explanation](https://shivathudi.github.io/jekyll/update/2017/06/15/matr-mult.html)**\n",
        "\n",
        "**T(N) = 7*T(N/2) +  O($N^2$)**\n",
        "\n",
        "From Master's Theorem, time complexity of above method is \n",
        "O($NLog^7$) which is approximately O(N^2.807)"
      ]
    },
    {
      "metadata": {
        "id": "o3fN0wb6-yDu",
        "colab_type": "text"
      },
      "cell_type": "markdown",
      "source": [
        "![Strassen's Breakdown www.geeksforgeeks.org](https://www.geeksforgeeks.org/wp-content/uploads/stressen_formula_new_new.png)"
      ]
    },
    {
      "metadata": {
        "id": "YslB4hKN6l7j",
        "colab_type": "text"
      },
      "cell_type": "markdown",
      "source": [
        "# In linear algebra, the Strassen algorithm, named after Volker Strassen, is an algorithm for matrix multiplication. It is faster than the standard matrix multiplication algorithm and is useful in practice for large matrices, but would be slower than the fastest known algorithms for extremely large matrices."
      ]
    },
    {
      "metadata": {
        "id": "7ekw_GX76nKB",
        "colab_type": "code",
        "colab": {}
      },
      "cell_type": "code",
      "source": [
        ""
      ],
      "execution_count": 0,
      "outputs": []
    }
  ]
}